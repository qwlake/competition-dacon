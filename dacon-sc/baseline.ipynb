{
 "cells": [
  {
   "cell_type": "markdown",
   "metadata": {},
   "source": [
    "## 1. 라이브러리 및 데이터\n",
    "### Library & Data"
   ]
  },
  {
   "cell_type": "code",
   "execution_count": 2,
   "metadata": {},
   "outputs": [],
   "source": [
    "import pandas as pd                         # 데이터 분석 라이브러리\n",
    "import numpy as np                          # 계산 라이브러리\n",
    "from tqdm import tqdm                       # 진행바\n",
    "from sklearn.metrics import roc_auc_score   # AUC 스코어 계산\n",
    "from sklearn.model_selection import KFold   # K-fold CV    \n",
    "from bayes_opt import BayesianOptimization  # 베이지안 최적화 라이브러리  \n",
    "from functools import partial               # 함수 변수 고정\n",
    "from lightgbm import plot_importance\n",
    "import matplotlib.pyplot as plt\n",
    "import lightgbm as lgb                      # LightGBM 라이브러리\n",
    "import warnings\n",
    "import joblib\n",
    "warnings.filterwarnings(\"ignore\")           # 경고 문구 미표시\n",
    "model_name = 'lightgbm'\n",
    "%matplotlib inline"
   ]
  },
  {
   "cell_type": "code",
   "execution_count": 58,
   "metadata": {},
   "outputs": [],
   "source": [
    "# train_path = 'data/train.csv'\n",
    "# test_path = 'data/test.csv'\n",
    "model_path = 'model/'+model_name+'_model.pkl'"
   ]
  },
  {
   "cell_type": "markdown",
   "metadata": {},
   "source": [
    "## 2. 데이터 전처리\n",
    "### Data Cleansing & Pre-Processing"
   ]
  },
  {
   "cell_type": "code",
   "execution_count": 4,
   "metadata": {},
   "outputs": [],
   "source": [
    "# 입력하세요."
   ]
  },
  {
   "cell_type": "markdown",
   "metadata": {},
   "source": [
    "## 3. 탐색적 자료분석\n",
    "### Exploratory Data Analysis"
   ]
  },
  {
   "cell_type": "code",
   "execution_count": 5,
   "metadata": {},
   "outputs": [],
   "source": [
    "# 입력하세요."
   ]
  },
  {
   "cell_type": "markdown",
   "metadata": {},
   "source": [
    "## 4. 변수 선택 및 모델 구축\n",
    "### Feature Engineering & Initial Modeling\n",
    "\n",
    "1) Feature로 각 플레이어의 종족, 게임 내 이벤트 발생 숫자, 플레이어간 이벤트 발생 숫자의 차이를 사용합니다.\n",
    "1-1) 종족을 숫자로 변환 (T:0, P:1, Z:2)\n",
    "1-2) 이벤트 발생 숫자는 8개 이벤트에 대해 각각 추출\n",
    "1-3) 플레이어간 이벤트 발생 숫자를 Feature로 추가\n",
    "1-4) 플레이어간 이벤트 발생 숫자 차이를 Feature로 추가\n",
    "\n",
    "2) 모델로 LGBMClassifier를 사용합니다.\n",
    "\n",
    "3) 훈련 세트를 5등분 하여 5-fold Cross Validation을 수행합니다.\n",
    "\n",
    "4) Bayesian optimization을 사용하여 하이퍼 파라미터를 조정합니다.\n",
    "4-1) 조정되는 하이퍼 파라미터: num_leaves, learning_rate, n_estimators, subsample, colsample_bytree, reg_alpha, reg_lambda\n",
    "4-2) Score로 AUC를 사용하며 AUC가 가장 높도록 하이퍼 파라미터 조정"
   ]
  },
  {
   "cell_type": "code",
   "execution_count": 6,
   "metadata": {},
   "outputs": [],
   "source": [
    "def species_converter(string):\n",
    "    if string == 'T':\n",
    "        return 0\n",
    "    elif string == 'P':\n",
    "        return 1\n",
    "    elif string == 'Z':\n",
    "        return 2\n",
    "    else:\n",
    "        raise ValueError\n",
    "\n",
    "def data_preparation(df, answer=False):\n",
    "    game_ids = df['game_id'].unique()\n",
    "    events = ['Ability', 'AddToControlGroup', 'Camera', 'ControlGroup', 'GetControlGroup', 'Right Click', 'Selection', 'SetControlGroup']\n",
    "    unique_event_0, unique_event_1, delta_event = {}, {}, {}\n",
    "    for event in events:\n",
    "        unique_event_0['P0_' + event] = 0\n",
    "        unique_event_1['P1_' + event] = 0\n",
    "        delta_event['delta_' + event] = 0\n",
    "        \n",
    "    species = df.groupby(['game_id', 'player']).species.unique()\n",
    "    event_count = df.groupby(['game_id', 'player']).event.value_counts()\n",
    "    if answer:\n",
    "        winners = df.groupby(['game_id']).winner.max()\n",
    "    \n",
    "    x_data, y_data = [], []\n",
    "    for game_id in tqdm(game_ids):\n",
    "        df_event_count = event_count[game_id].unstack(level=-1)\n",
    "        df = pd.DataFrame(species[game_id])\n",
    "        df = pd.concat([df, df_event_count], axis=1)   \n",
    "        df = df.fillna(0)\n",
    "        \n",
    "        df_P0_species = pd.DataFrame([species_converter(df.loc[0]['species'][0])], columns=['P0_species'])        \n",
    "        df_P1_species = pd.DataFrame([species_converter(df.loc[1]['species'][0])], columns=['P1_species'])\n",
    "        df = df.drop(['species'], axis=1)\n",
    "\n",
    "        df_P0_event = unique_event_0.copy()\n",
    "        for column in df.columns:\n",
    "            df_P0_event['P0_' + column] = df.loc[0][column]\n",
    "        df_P0_event = pd.DataFrame(pd.Series(df_P0_event)).T\n",
    "\n",
    "        df_P1_event = unique_event_1.copy()\n",
    "        for column in df.columns:\n",
    "            df_P1_event['P1_' + column] = df.loc[1][column]\n",
    "        df_P1_event = pd.DataFrame(pd.Series(df_P1_event)).T\n",
    "        \n",
    "        df_delta_event = delta_event.copy()\n",
    "        for column in df.columns:\n",
    "            df_delta_event['delta_' + column] = df_P0_event['P0_' + column][0] - df_P1_event['P1_' + column][0]\n",
    "        df_delta_event = pd.DataFrame(pd.Series(df_delta_event)).T\n",
    "\n",
    "        out = pd.concat([df_P0_species, df_P0_event, df_P1_species, df_P1_event, df_delta_event], axis=1)\n",
    "        out.index = [game_id]\n",
    "        out.index.name = 'game_id'\n",
    "        \n",
    "        x_data.append(out)\n",
    "        if answer:\n",
    "            y_data.append(winners[game_id])  \n",
    "\n",
    "    x_data = pd.concat(x_data)\n",
    "    y_data = np.array(y_data)\n",
    "    \n",
    "    return x_data, y_data"
   ]
  },
  {
   "cell_type": "code",
   "execution_count": 7,
   "metadata": {},
   "outputs": [],
   "source": [
    "# train.csv 원본 파일 읽고 data_preparation 진행\n",
    "# train = pd.read_csv('data/train.csv')\n",
    "# x_train, y_train = data_preparation(train, answer=True)\n",
    "\n",
    "# 전처리된 데이터 csv 파일로 저장\n",
    "# x_train.to_csv('data/baseline_x_train.csv')\n",
    "# np.savetxt(\"data/baseline_y_train.csv\", y_train, delimiter=\",\")\n",
    "# x_train.head()"
   ]
  },
  {
   "cell_type": "code",
   "execution_count": 54,
   "metadata": {},
   "outputs": [],
   "source": [
    "# 전처리된 csv 파일 읽기\n",
    "x_train = pd.read_csv('data/baseline_x_train.csv', index_col='game_id')\n",
    "y_train = np.loadtxt('data/baseline_y_train.csv', delimiter=',', dtype=np.float32)"
   ]
  },
  {
   "cell_type": "code",
   "execution_count": 55,
   "metadata": {},
   "outputs": [],
   "source": [
    "# important_features = [\n",
    "#     'P1_Ability',\n",
    "#     'P0_Ability',\n",
    "#     'delta_Ability',\n",
    "#     'P1_Camera',\n",
    "#     'P0_Camera',\n",
    "#     'delta_Camera',\n",
    "#     'P1_GetControlGroup',\n",
    "#     'P0_GetControlGroup',\n",
    "#     'delta_GetControlGroup',\n",
    "#     'P1_Selection',\n",
    "#     'P0_Selection',\n",
    "#     'delta_Selection',\n",
    "#     'delta_Right Click',\n",
    "#     'P1_Right Click',\n",
    "#     'P0_Right Click']\n",
    "# x_train = x_train[important_features]"
   ]
  },
  {
   "cell_type": "code",
   "execution_count": 56,
   "metadata": {},
   "outputs": [],
   "source": [
    "def lgb_cv(num_leaves, learning_rate, n_estimators, subsample, colsample_bytree, reg_alpha, reg_lambda, x_data=None, y_data=None, n_splits=5, output='score'):\n",
    "    score = 0\n",
    "    kf = KFold(n_splits=n_splits)\n",
    "    models = []\n",
    "    for train_index, valid_index in kf.split(x_data):\n",
    "        x_train, y_train = x_data.iloc[train_index], y_data[train_index]\n",
    "        x_valid, y_valid = x_data.iloc[valid_index], y_data[valid_index]\n",
    "        \n",
    "        model = lgb.LGBMClassifier(\n",
    "            num_leaves = int(num_leaves), \n",
    "            learning_rate = learning_rate, \n",
    "            n_estimators = int(n_estimators), \n",
    "            subsample = np.clip(subsample, 0, 1), \n",
    "            colsample_bytree = np.clip(colsample_bytree, 0, 1), \n",
    "            reg_alpha = reg_alpha, \n",
    "            reg_lambda = reg_lambda,\n",
    "        )\n",
    "        \n",
    "        model.fit(x_train, y_train)\n",
    "        models.append(model)\n",
    "        \n",
    "        pred = model.predict_proba(x_valid)[:, 1]\n",
    "        true = y_valid\n",
    "        score += roc_auc_score(true, pred)/n_splits\n",
    "    \n",
    "    if output == 'score':\n",
    "        return score\n",
    "    if output == 'model':\n",
    "        return models"
   ]
  },
  {
   "cell_type": "code",
   "execution_count": 57,
   "metadata": {},
   "outputs": [
    {
     "name": "stdout",
     "output_type": "stream",
     "text": [
      "|   iter    |  target   | colsam... | learni... | n_esti... | num_le... | reg_alpha | reg_la... | subsample |\n",
      "-------------------------------------------------------------------------------------------------------------\n",
      "| \u001b[0m 1       \u001b[0m | \u001b[0m 0.6186  \u001b[0m | \u001b[0m 0.0708  \u001b[0m | \u001b[0m 0.08152 \u001b[0m | \u001b[0m 790.0   \u001b[0m | \u001b[0m 304.6   \u001b[0m | \u001b[0m 1.931   \u001b[0m | \u001b[0m 48.95   \u001b[0m | \u001b[0m 0.4062  \u001b[0m |\n",
      "| \u001b[95m 2       \u001b[0m | \u001b[95m 0.646   \u001b[0m | \u001b[95m 0.7578  \u001b[0m | \u001b[95m 0.009006\u001b[0m | \u001b[95m 328.4   \u001b[0m | \u001b[95m 639.9   \u001b[0m | \u001b[95m 4.599   \u001b[0m | \u001b[95m 10.92   \u001b[0m | \u001b[95m 0.6635  \u001b[0m |\n",
      "| \u001b[0m 3       \u001b[0m | \u001b[0m 0.6258  \u001b[0m | \u001b[0m 0.6787  \u001b[0m | \u001b[0m 0.09504 \u001b[0m | \u001b[0m 299.5   \u001b[0m | \u001b[0m 640.8   \u001b[0m | \u001b[0m 3.833   \u001b[0m | \u001b[0m 20.02   \u001b[0m | \u001b[0m 0.9427  \u001b[0m |\n",
      "| \u001b[0m 4       \u001b[0m | \u001b[0m 0.6216  \u001b[0m | \u001b[0m 0.9299  \u001b[0m | \u001b[0m 0.09484 \u001b[0m | \u001b[0m 394.5   \u001b[0m | \u001b[0m 361.0   \u001b[0m | \u001b[0m 6.648   \u001b[0m | \u001b[0m 2.116   \u001b[0m | \u001b[0m 0.2322  \u001b[0m |\n",
      "| \u001b[0m 5       \u001b[0m | \u001b[0m 0.6434  \u001b[0m | \u001b[0m 0.4301  \u001b[0m | \u001b[0m 0.007886\u001b[0m | \u001b[0m 788.7   \u001b[0m | \u001b[0m 876.7   \u001b[0m | \u001b[0m 1.504   \u001b[0m | \u001b[0m 5.057   \u001b[0m | \u001b[0m 0.2709  \u001b[0m |\n",
      "| \u001b[95m 6       \u001b[0m | \u001b[95m 0.649   \u001b[0m | \u001b[95m 0.3634  \u001b[0m | \u001b[95m 0.01062 \u001b[0m | \u001b[95m 1.023e+0\u001b[0m | \u001b[95m 44.64   \u001b[0m | \u001b[95m 7.323   \u001b[0m | \u001b[95m 0.824   \u001b[0m | \u001b[95m 0.7852  \u001b[0m |\n",
      "| \u001b[0m 7       \u001b[0m | \u001b[0m 0.6353  \u001b[0m | \u001b[0m 0.7974  \u001b[0m | \u001b[0m 0.0001  \u001b[0m | \u001b[0m 16.0    \u001b[0m | \u001b[0m 1.024e+0\u001b[0m | \u001b[0m 10.0    \u001b[0m | \u001b[0m 0.0     \u001b[0m | \u001b[0m 1.0     \u001b[0m |\n",
      "| \u001b[0m 8       \u001b[0m | \u001b[0m 0.6436  \u001b[0m | \u001b[0m 0.5643  \u001b[0m | \u001b[0m 0.001705\u001b[0m | \u001b[0m 487.9   \u001b[0m | \u001b[0m 1.024e+0\u001b[0m | \u001b[0m 5.489   \u001b[0m | \u001b[0m 4.726   \u001b[0m | \u001b[0m 0.6895  \u001b[0m |\n",
      "| \u001b[0m 9       \u001b[0m | \u001b[0m 0.6367  \u001b[0m | \u001b[0m 0.1507  \u001b[0m | \u001b[0m 0.02209 \u001b[0m | \u001b[0m 1.022e+0\u001b[0m | \u001b[0m 426.3   \u001b[0m | \u001b[0m 6.593   \u001b[0m | \u001b[0m 2.049   \u001b[0m | \u001b[0m 0.4926  \u001b[0m |\n",
      "| \u001b[0m 10      \u001b[0m | \u001b[0m 0.6334  \u001b[0m | \u001b[0m 0.3039  \u001b[0m | \u001b[0m 0.04407 \u001b[0m | \u001b[0m 794.1   \u001b[0m | \u001b[0m 881.3   \u001b[0m | \u001b[0m 9.736   \u001b[0m | \u001b[0m 11.16   \u001b[0m | \u001b[0m 0.7289  \u001b[0m |\n",
      "| \u001b[0m 11      \u001b[0m | \u001b[0m 0.5955  \u001b[0m | \u001b[0m 0.03629 \u001b[0m | \u001b[0m 0.09276 \u001b[0m | \u001b[0m 662.7   \u001b[0m | \u001b[0m 611.9   \u001b[0m | \u001b[0m 0.9339  \u001b[0m | \u001b[0m 0.6722  \u001b[0m | \u001b[0m 0.4979  \u001b[0m |\n",
      "| \u001b[0m 12      \u001b[0m | \u001b[0m 0.6284  \u001b[0m | \u001b[0m 0.5823  \u001b[0m | \u001b[0m 0.09279 \u001b[0m | \u001b[0m 325.4   \u001b[0m | \u001b[0m 636.7   \u001b[0m | \u001b[0m 7.684   \u001b[0m | \u001b[0m 16.77   \u001b[0m | \u001b[0m 0.3027  \u001b[0m |\n",
      "| \u001b[0m 13      \u001b[0m | \u001b[0m 0.6346  \u001b[0m | \u001b[0m 0.5582  \u001b[0m | \u001b[0m 0.04219 \u001b[0m | \u001b[0m 17.0    \u001b[0m | \u001b[0m 19.11   \u001b[0m | \u001b[0m 4.669   \u001b[0m | \u001b[0m 16.51   \u001b[0m | \u001b[0m 0.6454  \u001b[0m |\n",
      "| \u001b[0m 14      \u001b[0m | \u001b[0m 0.6235  \u001b[0m | \u001b[0m 0.7875  \u001b[0m | \u001b[0m 0.09069 \u001b[0m | \u001b[0m 544.6   \u001b[0m | \u001b[0m 647.5   \u001b[0m | \u001b[0m 7.761   \u001b[0m | \u001b[0m 14.73   \u001b[0m | \u001b[0m 0.3832  \u001b[0m |\n",
      "| \u001b[0m 15      \u001b[0m | \u001b[0m 0.6285  \u001b[0m | \u001b[0m 0.09321 \u001b[0m | \u001b[0m 0.01228 \u001b[0m | \u001b[0m 1.014e+0\u001b[0m | \u001b[0m 1.016e+0\u001b[0m | \u001b[0m 0.4293  \u001b[0m | \u001b[0m 26.49   \u001b[0m | \u001b[0m 0.04446 \u001b[0m |\n",
      "| \u001b[0m 16      \u001b[0m | \u001b[0m 0.6406  \u001b[0m | \u001b[0m 0.6532  \u001b[0m | \u001b[0m 0.009039\u001b[0m | \u001b[0m 35.89   \u001b[0m | \u001b[0m 578.5   \u001b[0m | \u001b[0m 2.369   \u001b[0m | \u001b[0m 13.64   \u001b[0m | \u001b[0m 0.995   \u001b[0m |\n",
      "| \u001b[0m 17      \u001b[0m | \u001b[0m 0.6373  \u001b[0m | \u001b[0m 0.8492  \u001b[0m | \u001b[0m 0.01999 \u001b[0m | \u001b[0m 745.4   \u001b[0m | \u001b[0m 450.0   \u001b[0m | \u001b[0m 8.485   \u001b[0m | \u001b[0m 14.17   \u001b[0m | \u001b[0m 0.999   \u001b[0m |\n",
      "| \u001b[0m 18      \u001b[0m | \u001b[0m 0.6426  \u001b[0m | \u001b[0m 0.6121  \u001b[0m | \u001b[0m 0.03204 \u001b[0m | \u001b[0m 33.57   \u001b[0m | \u001b[0m 579.7   \u001b[0m | \u001b[0m 5.256   \u001b[0m | \u001b[0m 13.04   \u001b[0m | \u001b[0m 0.08931 \u001b[0m |\n",
      "| \u001b[0m 19      \u001b[0m | \u001b[0m 0.6449  \u001b[0m | \u001b[0m 0.571   \u001b[0m | \u001b[0m 0.07161 \u001b[0m | \u001b[0m 565.1   \u001b[0m | \u001b[0m 19.67   \u001b[0m | \u001b[0m 9.545   \u001b[0m | \u001b[0m 4.277   \u001b[0m | \u001b[0m 0.2538  \u001b[0m |\n",
      "| \u001b[0m 20      \u001b[0m | \u001b[0m 0.6411  \u001b[0m | \u001b[0m 0.626   \u001b[0m | \u001b[0m 0.01098 \u001b[0m | \u001b[0m 27.85   \u001b[0m | \u001b[0m 772.0   \u001b[0m | \u001b[0m 4.155   \u001b[0m | \u001b[0m 2.283   \u001b[0m | \u001b[0m 0.3498  \u001b[0m |\n",
      "| \u001b[0m 21      \u001b[0m | \u001b[0m 0.6416  \u001b[0m | \u001b[0m 0.4768  \u001b[0m | \u001b[0m 0.02008 \u001b[0m | \u001b[0m 23.88   \u001b[0m | \u001b[0m 306.3   \u001b[0m | \u001b[0m 1.735   \u001b[0m | \u001b[0m 2.952   \u001b[0m | \u001b[0m 0.8861  \u001b[0m |\n",
      "| \u001b[0m 22      \u001b[0m | \u001b[0m 0.6278  \u001b[0m | \u001b[0m 0.508   \u001b[0m | \u001b[0m 0.03396 \u001b[0m | \u001b[0m 785.9   \u001b[0m | \u001b[0m 877.3   \u001b[0m | \u001b[0m 4.036   \u001b[0m | \u001b[0m 1.653   \u001b[0m | \u001b[0m 0.4724  \u001b[0m |\n",
      "| \u001b[0m 23      \u001b[0m | \u001b[0m 0.6304  \u001b[0m | \u001b[0m 0.6208  \u001b[0m | \u001b[0m 0.03468 \u001b[0m | \u001b[0m 1.013e+0\u001b[0m | \u001b[0m 759.3   \u001b[0m | \u001b[0m 3.726   \u001b[0m | \u001b[0m 45.32   \u001b[0m | \u001b[0m 0.6184  \u001b[0m |\n",
      "| \u001b[0m 24      \u001b[0m | \u001b[0m 0.6333  \u001b[0m | \u001b[0m 0.02343 \u001b[0m | \u001b[0m 0.06362 \u001b[0m | \u001b[0m 274.7   \u001b[0m | \u001b[0m 30.12   \u001b[0m | \u001b[0m 8.546   \u001b[0m | \u001b[0m 5.085   \u001b[0m | \u001b[0m 0.5257  \u001b[0m |\n",
      "| \u001b[0m 25      \u001b[0m | \u001b[0m 0.6217  \u001b[0m | \u001b[0m 0.8219  \u001b[0m | \u001b[0m 0.08009 \u001b[0m | \u001b[0m 704.4   \u001b[0m | \u001b[0m 1.02e+03\u001b[0m | \u001b[0m 0.283   \u001b[0m | \u001b[0m 46.33   \u001b[0m | \u001b[0m 0.07407 \u001b[0m |\n",
      "| \u001b[0m 26      \u001b[0m | \u001b[0m 0.6389  \u001b[0m | \u001b[0m 0.6588  \u001b[0m | \u001b[0m 0.04761 \u001b[0m | \u001b[0m 272.2   \u001b[0m | \u001b[0m 1.011e+0\u001b[0m | \u001b[0m 1.869   \u001b[0m | \u001b[0m 47.87   \u001b[0m | \u001b[0m 0.2075  \u001b[0m |\n",
      "| \u001b[0m 27      \u001b[0m | \u001b[0m 0.6261  \u001b[0m | \u001b[0m 0.9631  \u001b[0m | \u001b[0m 0.03367 \u001b[0m | \u001b[0m 377.4   \u001b[0m | \u001b[0m 845.4   \u001b[0m | \u001b[0m 0.06296 \u001b[0m | \u001b[0m 2.153   \u001b[0m | \u001b[0m 0.1928  \u001b[0m |\n",
      "| \u001b[0m 28      \u001b[0m | \u001b[0m 0.6388  \u001b[0m | \u001b[0m 0.1278  \u001b[0m | \u001b[0m 0.07261 \u001b[0m | \u001b[0m 824.0   \u001b[0m | \u001b[0m 25.23   \u001b[0m | \u001b[0m 8.595   \u001b[0m | \u001b[0m 2.651   \u001b[0m | \u001b[0m 0.6814  \u001b[0m |\n",
      "| \u001b[0m 29      \u001b[0m | \u001b[0m 0.6298  \u001b[0m | \u001b[0m 0.1752  \u001b[0m | \u001b[0m 0.01984 \u001b[0m | \u001b[0m 17.74   \u001b[0m | \u001b[0m 21.87   \u001b[0m | \u001b[0m 1.78    \u001b[0m | \u001b[0m 11.81   \u001b[0m | \u001b[0m 0.02861 \u001b[0m |\n",
      "| \u001b[0m 30      \u001b[0m | \u001b[0m 0.6229  \u001b[0m | \u001b[0m 0.7466  \u001b[0m | \u001b[0m 0.06141 \u001b[0m | \u001b[0m 886.7   \u001b[0m | \u001b[0m 561.6   \u001b[0m | \u001b[0m 0.5196  \u001b[0m | \u001b[0m 46.52   \u001b[0m | \u001b[0m 0.9823  \u001b[0m |\n",
      "| \u001b[0m 31      \u001b[0m | \u001b[0m 0.6234  \u001b[0m | \u001b[0m 0.7834  \u001b[0m | \u001b[0m 0.0963  \u001b[0m | \u001b[0m 333.1   \u001b[0m | \u001b[0m 639.9   \u001b[0m | \u001b[0m 3.268   \u001b[0m | \u001b[0m 8.905   \u001b[0m | \u001b[0m 0.6789  \u001b[0m |\n",
      "| \u001b[0m 32      \u001b[0m | \u001b[0m 0.6386  \u001b[0m | \u001b[0m 0.9782  \u001b[0m | \u001b[0m 0.04297 \u001b[0m | \u001b[0m 27.7    \u001b[0m | \u001b[0m 771.6   \u001b[0m | \u001b[0m 8.381   \u001b[0m | \u001b[0m 3.049   \u001b[0m | \u001b[0m 0.9078  \u001b[0m |\n",
      "| \u001b[0m 33      \u001b[0m | \u001b[0m 0.6345  \u001b[0m | \u001b[0m 0.6559  \u001b[0m | \u001b[0m 0.0001  \u001b[0m | \u001b[0m 553.2   \u001b[0m | \u001b[0m 232.1   \u001b[0m | \u001b[0m 10.0    \u001b[0m | \u001b[0m 50.0    \u001b[0m | \u001b[0m 1.0     \u001b[0m |\n",
      "| \u001b[0m 34      \u001b[0m | \u001b[0m 0.643   \u001b[0m | \u001b[0m 0.594   \u001b[0m | \u001b[0m 0.03182 \u001b[0m | \u001b[0m 35.82   \u001b[0m | \u001b[0m 576.9   \u001b[0m | \u001b[0m 0.2874  \u001b[0m | \u001b[0m 9.914   \u001b[0m | \u001b[0m 0.5074  \u001b[0m |\n",
      "| \u001b[0m 35      \u001b[0m | \u001b[0m 0.6396  \u001b[0m | \u001b[0m 0.6041  \u001b[0m | \u001b[0m 0.07507 \u001b[0m | \u001b[0m 225.7   \u001b[0m | \u001b[0m 233.1   \u001b[0m | \u001b[0m 6.626   \u001b[0m | \u001b[0m 48.41   \u001b[0m | \u001b[0m 0.8116  \u001b[0m |\n",
      "=============================================================================================================\n"
     ]
    }
   ],
   "source": [
    "func_fixed = partial(lgb_cv, x_data=x_train, y_data=y_train, n_splits=5, output='score') \n",
    "lgbBO = BayesianOptimization(\n",
    "    func_fixed, \n",
    "    {\n",
    "        'num_leaves': (16, 1024),\n",
    "        'learning_rate': (0.0001, 0.1),\n",
    "        'n_estimators': (16, 1024),\n",
    "        'subsample': (0, 1),\n",
    "        'colsample_bytree': (0, 1),\n",
    "        'reg_alpha': (0, 10), \n",
    "        'reg_lambda': (0, 50),\n",
    "    }, \n",
    "    random_state=4321\n",
    ")\n",
    "lgbBO.maximize(init_points=5, n_iter=30)"
   ]
  },
  {
   "cell_type": "markdown",
   "metadata": {},
   "source": [
    "## 5. 모델 학습 및 검증\n",
    "### Model Tuning & Evaluation\n",
    "1) AUC가 가장 높은 하이퍼 파라미터를 사용해 최종 모델을 얻습니다.\n",
    "\n",
    "2) 훈련 세트와 같은 방법으로 테스트 세트에서 Feature를 추출합니다.\n",
    "\n",
    "3) 최종 모델을 사용해 예측을 수행합니다.\n",
    "\n",
    "4) 예측 결과를 submission.csv로 저장합니다."
   ]
  },
  {
   "cell_type": "code",
   "execution_count": 11,
   "metadata": {},
   "outputs": [
    {
     "data": {
      "text/plain": [
       "['model/lightgbm_model.pkl']"
      ]
     },
     "execution_count": 11,
     "metadata": {},
     "output_type": "execute_result"
    }
   ],
   "source": [
    "params = lgbBO.max['params']\n",
    "models = lgb_cv(\n",
    "    params['num_leaves'], \n",
    "    params['learning_rate'], \n",
    "    params['n_estimators'], \n",
    "    params['subsample'], \n",
    "    params['colsample_bytree'], \n",
    "    params['reg_alpha'], \n",
    "    params['reg_lambda'], \n",
    "    x_data=x_train, y_data=y_train, n_splits=5, output='model')\n",
    "joblib.dump(models, model_path)"
   ]
  },
  {
   "cell_type": "code",
   "execution_count": 12,
   "metadata": {},
   "outputs": [
    {
     "data": {
      "text/plain": [
       "<matplotlib.axes._subplots.AxesSubplot at 0x19dc0f1e7f0>"
      ]
     },
     "execution_count": 12,
     "metadata": {},
     "output_type": "execute_result"
    },
    {
     "data": {
      "image/png": "[encoded data removed]",
      "text/plain": [
       "<Figure size 720x432 with 1 Axes>"
      ]
     },
     "metadata": {
      "needs_background": "light"
     },
     "output_type": "display_data"
    }
   ],
   "source": [
    "_, ax = plt.subplots(figsize=(10, 6))\n",
    "plot_importance(models[0], ax=ax)"
   ]
  },
  {
   "cell_type": "code",
   "execution_count": 13,
   "metadata": {},
   "outputs": [],
   "source": [
    "# test.csv 원본 파일 읽고 data_preparation 진행\n",
    "# test = pd.read_csv('data/test.csv')\n",
    "# x_test, _ = data_preparation(test, answer=False)\n",
    "\n",
    "# 전처리된 데이터 csv 파일로 저장\n",
    "# x_test.to_csv('data/baseline_x_test.csv')\n",
    "# x_test.head()"
   ]
  },
  {
   "cell_type": "code",
   "execution_count": 13,
   "metadata": {},
   "outputs": [],
   "source": [
    "# 전처리된 csv 파일 읽기\n",
    "x_test = pd.read_csv('data/baseline_x_test.csv', index_col='game_id')"
   ]
  },
  {
   "cell_type": "code",
   "execution_count": 14,
   "metadata": {},
   "outputs": [
    {
     "data": {
      "text/html": [
       "<div>\n",
       "<style scoped>\n",
       "    .dataframe tbody tr th:only-of-type {\n",
       "        vertical-align: middle;\n",
       "    }\n",
       "\n",
       "    .dataframe tbody tr th {\n",
       "        vertical-align: top;\n",
       "    }\n",
       "\n",
       "    .dataframe thead th {\n",
       "        text-align: right;\n",
       "    }\n",
       "</style>\n",
       "<table border=\"1\" class=\"dataframe\">\n",
       "  <thead>\n",
       "    <tr style=\"text-align: right;\">\n",
       "      <th></th>\n",
       "      <th>winner</th>\n",
       "    </tr>\n",
       "    <tr>\n",
       "      <th>game_id</th>\n",
       "      <th></th>\n",
       "    </tr>\n",
       "  </thead>\n",
       "  <tbody>\n",
       "    <tr>\n",
       "      <th>38872</th>\n",
       "      <td>0.624099</td>\n",
       "    </tr>\n",
       "    <tr>\n",
       "      <th>38873</th>\n",
       "      <td>0.507633</td>\n",
       "    </tr>\n",
       "    <tr>\n",
       "      <th>38874</th>\n",
       "      <td>0.449902</td>\n",
       "    </tr>\n",
       "    <tr>\n",
       "      <th>38875</th>\n",
       "      <td>0.287078</td>\n",
       "    </tr>\n",
       "    <tr>\n",
       "      <th>38876</th>\n",
       "      <td>0.450226</td>\n",
       "    </tr>\n",
       "  </tbody>\n",
       "</table>\n",
       "</div>"
      ],
      "text/plain": [
       "           winner\n",
       "game_id          \n",
       "38872    0.624099\n",
       "38873    0.507633\n",
       "38874    0.449902\n",
       "38875    0.287078\n",
       "38876    0.450226"
      ]
     },
     "execution_count": 14,
     "metadata": {},
     "output_type": "execute_result"
    }
   ],
   "source": [
    "models = joblib.load(model_path)\n",
    "preds = []\n",
    "for model in models:\n",
    "    pred = model.predict_proba(x_test)[:, 1]\n",
    "    preds.append(pred)\n",
    "pred = np.mean(preds, axis=0)\n",
    "\n",
    "submission = pd.read_csv('data/sample_submission.csv', index_col=0)\n",
    "submission['winner'] = submission['winner'] + pred\n",
    "submission.to_csv('submission.csv')\n",
    "submission.head()"
   ]
  },
  {
   "cell_type": "markdown",
   "metadata": {},
   "source": [
    "## 6. 결과 및 결언\n",
    "### Conclusion & Discussion"
   ]
  },
  {
   "cell_type": "code",
   "execution_count": null,
   "metadata": {},
   "outputs": [],
   "source": [
    "# 입력하세요."
   ]
  }
 ],
 "metadata": {
  "kernelspec": {
   "display_name": "py36",
   "language": "python",
   "name": "py36"
  },
  "language_info": {
   "codemirror_mode": {
    "name": "ipython",
    "version": 3
   },
   "file_extension": ".py",
   "mimetype": "text/x-python",
   "name": "python",
   "nbconvert_exporter": "python",
   "pygments_lexer": "ipython3",
   "version": "3.6.9"
  }
 },
 "nbformat": 4,
 "nbformat_minor": 4
}
