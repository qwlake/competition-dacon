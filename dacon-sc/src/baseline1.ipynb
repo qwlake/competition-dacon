{
 "cells": [
  {
   "cell_type": "code",
   "execution_count": 1,
   "metadata": {
    "scrolled": true
   },
   "outputs": [
    {
     "data": {
      "text/html": [
       "<style type='text/css'>\n",
       ".datatable table.frame { margin-bottom: 0; }\n",
       ".datatable table.frame thead { border-bottom: none; }\n",
       ".datatable table.frame tr.coltypes td {  color: #FFFFFF;  line-height: 6px;  padding: 0 0.5em;}\n",
       ".datatable .boolean { background: #DDDD99; }\n",
       ".datatable .object  { background: #565656; }\n",
       ".datatable .integer { background: #5D9E5D; }\n",
       ".datatable .float   { background: #4040CC; }\n",
       ".datatable .string  { background: #CC4040; }\n",
       ".datatable .row_index {  background: var(--jp-border-color3);  border-right: 1px solid var(--jp-border-color0);  color: var(--jp-ui-font-color3);  font-size: 9px;}\n",
       ".datatable .frame tr.coltypes .row_index {  background: var(--jp-border-color0);}\n",
       ".datatable th:nth-child(2) { padding-left: 12px; }\n",
       ".datatable .hellipsis {  color: var(--jp-cell-editor-border-color);}\n",
       ".datatable .vellipsis {  background: var(--jp-layout-color0);  color: var(--jp-cell-editor-border-color);}\n",
       ".datatable .na {  color: var(--jp-cell-editor-border-color);  font-size: 80%;}\n",
       ".datatable .footer { font-size: 9px; }\n",
       ".datatable .frame_dimensions {  background: var(--jp-border-color3);  border-top: 1px solid var(--jp-border-color0);  color: var(--jp-ui-font-color3);  display: inline-block;  opacity: 0.6;  padding: 1px 10px 1px 5px;}\n",
       "</style>\n"
      ],
      "text/plain": [
       "<IPython.core.display.HTML object>"
      ]
     },
     "metadata": {},
     "output_type": "display_data"
    },
    {
     "name": "stdout",
     "output_type": "stream",
     "text": [
      "CPU times: user 31.3 s, sys: 10.4 s, total: 41.7 s\n",
      "Wall time: 55.4 s\n"
     ]
    },
    {
     "data": {
      "text/html": [
       "<div class='datatable'>\n",
       "  <table class='frame'>\n",
       "  <thead>\n",
       "    <tr class='colnames'><td class='row_index'></td><th>game_id</th><th>winner</th><th>time</th><th>player</th><th>species</th><th>event</th><th>event_contents</th></tr>\n",
       "    <tr class='coltypes'><td class='row_index'></td><td class='integer' title='int32'>&#x25AA;&#x25AA;&#x25AA;&#x25AA;</td><td class='boolean' title='bool8'>&#x25AA;</td><td class='float' title='float64'>&#x25AA;&#x25AA;&#x25AA;&#x25AA;&#x25AA;&#x25AA;&#x25AA;&#x25AA;</td><td class='boolean' title='bool8'>&#x25AA;</td><td class='string' title='str32'>&#x25AA;&#x25AA;&#x25AA;&#x25AA;</td><td class='string' title='str32'>&#x25AA;&#x25AA;&#x25AA;&#x25AA;</td><td class='string' title='str32'>&#x25AA;&#x25AA;&#x25AA;&#x25AA;</td></tr>\n",
       "  </thead>\n",
       "  <tbody>\n",
       "    <tr><td class='row_index'>0</td><td>0</td><td>1</td><td>0</td><td>0</td><td>T</td><td>Camera</td><td>at (145.25, 21.5078125)</td></tr>\n",
       "    <tr><td class='row_index'>1</td><td>0</td><td>1</td><td>0</td><td>1</td><td>T</td><td>Camera</td><td>at (22.75, 147.0078125)</td></tr>\n",
       "    <tr><td class='row_index'>2</td><td>0</td><td>1</td><td>0.02</td><td>0</td><td>T</td><td>Selection</td><td>['OrbitalCommand [3080001]']</td></tr>\n",
       "    <tr><td class='row_index'>3</td><td>0</td><td>1</td><td>0.02</td><td>0</td><td>T</td><td>Ability</td><td>(1360) - TrainSCV</td></tr>\n",
       "    <tr><td class='row_index'>4</td><td>0</td><td>1</td><td>0.14</td><td>0</td><td>T</td><td>Camera</td><td>at (142.99609375, 24.50390625)</td></tr>\n",
       "    <tr><td class='row_index'>5</td><td>0</td><td>1</td><td>0.14</td><td>0</td><td>T</td><td>Camera</td><td>at (142.5078125, 24.98828125)</td></tr>\n",
       "    <tr><td class='row_index'>6</td><td>0</td><td>1</td><td>0.14</td><td>0</td><td>T</td><td>Camera</td><td>at (139.6171875, 27.8828125)</td></tr>\n",
       "    <tr><td class='row_index'>7</td><td>0</td><td>1</td><td>0.14</td><td>0</td><td>T</td><td>Camera</td><td>at (138.3359375, 29.1640625)</td></tr>\n",
       "    <tr><td class='row_index'>8</td><td>0</td><td>1</td><td>0.14</td><td>0</td><td>T</td><td>Camera</td><td>at (136.23828125, 31.26171875)</td></tr>\n",
       "    <tr><td class='row_index'>9</td><td>0</td><td>1</td><td>0.14</td><td>0</td><td>T</td><td>Camera</td><td>at (135.23828125, 32.26171875)</td></tr>\n",
       "  </tbody>\n",
       "  </table>\n",
       "  <div class='footer'>\n",
       "    <div class='frame_dimensions'>10 rows &times; 7 columns</div>\n",
       "  </div>\n",
       "</div>\n"
      ],
      "text/plain": [
       "<Frame [10 rows x 7 cols]>"
      ]
     },
     "execution_count": 1,
     "metadata": {},
     "output_type": "execute_result"
    }
   ],
   "source": [
    "%%time\n",
    "import datatable as dt\n",
    "train = dt.fread(\"../data/train.csv\")\n",
    "test = dt.fread(\"../data/test.csv\")\n",
    "train.head()"
   ]
  },
  {
   "cell_type": "code",
   "execution_count": 4,
   "metadata": {},
   "outputs": [
    {
     "data": {
      "text/html": [
       "<div>\n",
       "<style scoped>\n",
       "    .dataframe tbody tr th:only-of-type {\n",
       "        vertical-align: middle;\n",
       "    }\n",
       "\n",
       "    .dataframe tbody tr th {\n",
       "        vertical-align: top;\n",
       "    }\n",
       "\n",
       "    .dataframe thead th {\n",
       "        text-align: right;\n",
       "    }\n",
       "</style>\n",
       "<table border=\"1\" class=\"dataframe\">\n",
       "  <thead>\n",
       "    <tr style=\"text-align: right;\">\n",
       "      <th></th>\n",
       "      <th>game_id</th>\n",
       "      <th>time</th>\n",
       "      <th>player</th>\n",
       "      <th>species</th>\n",
       "      <th>event</th>\n",
       "      <th>event_contents</th>\n",
       "    </tr>\n",
       "  </thead>\n",
       "  <tbody>\n",
       "    <tr>\n",
       "      <th>0</th>\n",
       "      <td>38872</td>\n",
       "      <td>0.00</td>\n",
       "      <td>0</td>\n",
       "      <td>P</td>\n",
       "      <td>Camera</td>\n",
       "      <td>at (22.25, 81.5078125)</td>\n",
       "    </tr>\n",
       "    <tr>\n",
       "      <th>1</th>\n",
       "      <td>38872</td>\n",
       "      <td>0.00</td>\n",
       "      <td>1</td>\n",
       "      <td>P</td>\n",
       "      <td>Camera</td>\n",
       "      <td>at (120.25, 153.83984375)</td>\n",
       "    </tr>\n",
       "    <tr>\n",
       "      <th>2</th>\n",
       "      <td>38872</td>\n",
       "      <td>0.01</td>\n",
       "      <td>1</td>\n",
       "      <td>P</td>\n",
       "      <td>Selection</td>\n",
       "      <td>['Nexus [3100001]']</td>\n",
       "    </tr>\n",
       "    <tr>\n",
       "      <th>3</th>\n",
       "      <td>38872</td>\n",
       "      <td>0.01</td>\n",
       "      <td>1</td>\n",
       "      <td>P</td>\n",
       "      <td>Ability</td>\n",
       "      <td>(15E0) - TrainProbe</td>\n",
       "    </tr>\n",
       "    <tr>\n",
       "      <th>4</th>\n",
       "      <td>38872</td>\n",
       "      <td>0.01</td>\n",
       "      <td>1</td>\n",
       "      <td>P</td>\n",
       "      <td>AddToControlGroup</td>\n",
       "      <td>NaN</td>\n",
       "    </tr>\n",
       "  </tbody>\n",
       "</table>\n",
       "</div>"
      ],
      "text/plain": [
       "   game_id  time  player species              event             event_contents\n",
       "0    38872  0.00       0       P             Camera     at (22.25, 81.5078125)\n",
       "1    38872  0.00       1       P             Camera  at (120.25, 153.83984375)\n",
       "2    38872  0.01       1       P          Selection        ['Nexus [3100001]']\n",
       "3    38872  0.01       1       P            Ability        (15E0) - TrainProbe\n",
       "4    38872  0.01       1       P  AddToControlGroup                        NaN"
      ]
     },
     "execution_count": 4,
     "metadata": {},
     "output_type": "execute_result"
    }
   ],
   "source": [
    "import pandas as pd\n",
    "train = pd.read_csv(\"../data/test.csv\")\n",
    "test = pd.read_csv(\"../data/test.csv\")\n",
    "train.head()"
   ]
  },
  {
   "cell_type": "code",
   "execution_count": null,
   "metadata": {},
   "outputs": [],
   "source": [
    "import pyarrow.parquet as pq\n",
    "from pyarrow import csv\n",
    "\n",
    "pq.write_table(csv.read_csv('../data/train.csv'), '../data/train.parquet')\n",
    "pq.write_table(csv.read_csv('../data/test.csv'), '../data/test.parquet')"
   ]
  },
  {
   "cell_type": "code",
   "execution_count": null,
   "metadata": {},
   "outputs": [],
   "source": []
  }
 ],
 "metadata": {
  "kernelspec": {
   "display_name": "Python [conda env:py37]",
   "language": "python",
   "name": "conda-env-py37-py"
  },
  "language_info": {
   "codemirror_mode": {
    "name": "ipython",
    "version": 3
   },
   "file_extension": ".py",
   "mimetype": "text/x-python",
   "name": "python",
   "nbconvert_exporter": "python",
   "pygments_lexer": "ipython3",
   "version": "3.7.6"
  }
 },
 "nbformat": 4,
 "nbformat_minor": 4
}
