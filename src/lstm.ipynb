{
 "cells": [
  {
   "cell_type": "code",
   "execution_count": 1,
   "metadata": {},
   "outputs": [],
   "source": [
    "import os\n",
    "import datetime, time\n",
    "import multiprocessing\n",
    "from multiprocessing import cpu_count, Pool\n",
    "from functools import partial # 함수가 받는 인자들 중 몇개를 고정 시켜서 새롭게 파생된 함수를 형성하는 역할\n",
    "import json\n",
    "import logging\n",
    "import logging.config\n",
    "import random\n",
    "\n",
    "import matplotlib.pyplot as plt\n",
    "import pandas as pd \n",
    "import numpy as np\n",
    "from sklearn.metrics import accuracy_score\n",
    "from sklearn.preprocessing import MinMaxScaler\n",
    "import joblib # 모델을 저장하고 불러오는 역할\n",
    "import torch\n",
    "from torch import nn\n",
    "from torch import optim\n",
    "from torch.nn import functional as F\n",
    "from torch.optim.lr_scheduler import _LRScheduler\n",
    "from torch.utils.data import TensorDataset, Dataset, DataLoader\n",
    "from torch.autograd import Variable\n",
    "\n",
    "from utils import data_loader_v2\n",
    "from utils import data_loader_v3\n",
    "from utils import data_loader_v4\n",
    "from logger.logger import LoggerAdapter"
   ]
  },
  {
   "cell_type": "code",
   "execution_count": 2,
   "metadata": {},
   "outputs": [],
   "source": [
    "submit = True\n",
    "model_name = \"lstm\" # RandomForestClassifier, XGBClassifier, lstm\n",
    "epochs = 30\n",
    "device = torch.device('cuda' if torch.cuda.is_available() else 'cpu')\n",
    "\n",
    "with open('./logger/logging.json', 'rt') as f:\n",
    "    config = json.load(f)\n",
    "logging.config.dictConfig(config)\n",
    "logger = logging.getLogger(\"\")\n",
    "logger = LoggerAdapter(\"\", logger)\n",
    "\n",
    "# torch.set_default_tensor_type('torch.cuda.FloatTensor')"
   ]
  },
  {
   "cell_type": "markdown",
   "metadata": {},
   "source": [
    "## Set Path"
   ]
  },
  {
   "cell_type": "code",
   "execution_count": 3,
   "metadata": {},
   "outputs": [],
   "source": [
    "train_folder = '../data/train_all/'\n",
    "test_folder = '../data/test/'\n",
    "train_label_path = '../data/train_label.csv'\n",
    "model_path = '../model/'+model_name+'_model.pkl'\n",
    "submission_folder = '../submission/'"
   ]
  },
  {
   "cell_type": "markdown",
   "metadata": {},
   "source": [
    "## Load Files"
   ]
  },
  {
   "cell_type": "code",
   "execution_count": 4,
   "metadata": {},
   "outputs": [],
   "source": [
    "train_list = os.listdir(train_folder)\n",
    "test_list = os.listdir(test_folder)\n",
    "train_label = pd.read_csv(train_label_path, index_col=0)"
   ]
  },
  {
   "cell_type": "code",
   "execution_count": 5,
   "metadata": {},
   "outputs": [],
   "source": [
    "class MyDataset(Dataset):\n",
    "    def __init__(self, files, files_num=1, folder='', label=None, event_time=10, nrows=60, sclice=1, rand_row=False):\n",
    "        self.files = files\n",
    "        self.files_num = files_num\n",
    "        self.folder = folder\n",
    "        self.label = label\n",
    "        self.event_time = event_time\n",
    "        self.nrows = nrows\n",
    "        self.sclice = sclice\n",
    "        self.rand_row = rand_row\n",
    "\n",
    "    def __getitem__(self, idx):\n",
    "        idx = np.random.randint(len(self.files)) if idx+self.files_num > len(self.files) else idx\n",
    "        func_fixed = partial(\n",
    "            data_loader_v4, \n",
    "            folder=self.folder, \n",
    "            label=self.label, \n",
    "            event_time=self.event_time, \n",
    "            nrows=self.nrows,\n",
    "            sclice=self.sclice,\n",
    "            rand_row=self.rand_row) \n",
    "        if __name__ == '__main__':\n",
    "            pool = Pool(processes=multiprocessing.cpu_count())\n",
    "            if type(self.label) is not type(None):\n",
    "                ts_list = list(pool.imap(func_fixed, self.files[idx:idx+self.files_num]))\n",
    "            else:\n",
    "                ts_list = list(pool.imap(func_fixed, self.files))\n",
    "            pool.close()\n",
    "            pool.join()\n",
    "            \n",
    "            # multiprocessing 안 쓰고 기본으로 배치 가져올때\n",
    "#         ts_list = data_loader_v4(\n",
    "#             file_name=self.files[idx],\n",
    "#             folder=self.folder, \n",
    "#             label=self.label, \n",
    "#             event_time=self.event_time, \n",
    "#             nrows=self.nrows,\n",
    "#             batch=self.batch)\n",
    "\n",
    "        data_list, label_list = [], []\n",
    "        for d in ts_list:\n",
    "            data_list.append(d[0].to(device)) # .to(device)\n",
    "            label_list.append(d[1].to(device) if d[1] is not None else [-1,]) # .to(device)\n",
    "        data_list = torch.cat(data_list)\n",
    "        label_list = torch.cat(label_list) if label_list[0][0] != -1 else label_list\n",
    "        return data_list, label_list\n",
    "\n",
    "    def __len__(self):\n",
    "        return len(self.files)"
   ]
  },
  {
   "cell_type": "code",
   "execution_count": 6,
   "metadata": {},
   "outputs": [],
   "source": [
    "trainset = MyDataset(\n",
    "    files=train_list, \n",
    "    files_num=10,\n",
    "    folder=train_folder, \n",
    "    label=train_label, \n",
    "    event_time=15, \n",
    "    nrows=600,\n",
    "    sclice=100,\n",
    "    rand_row=True)\n",
    "trainloader = DataLoader(trainset, batch_size=1, shuffle=True)\n",
    "\n",
    "testset = MyDataset(\n",
    "    files=test_list, \n",
    "    folder=test_folder, \n",
    "    event_time=10, \n",
    "    nrows=60)\n",
    "testloader = DataLoader(testset, batch_size=1, shuffle=True)"
   ]
  },
  {
   "cell_type": "markdown",
   "metadata": {},
   "source": [
    "### Model"
   ]
  },
  {
   "cell_type": "code",
   "execution_count": 19,
   "metadata": {},
   "outputs": [],
   "source": [
    "class LSTM(nn.Module):\n",
    "    def __init__(self, input_size=5121, hidden_layer_size=100, output_size=198):\n",
    "        super().__init__()\n",
    "        self.hidden_layer_size = hidden_layer_size\n",
    "\n",
    "        self.lstm = nn.LSTM(input_size, hidden_layer_size, bidirectional = True)\n",
    "\n",
    "        self.linear = nn.Linear(hidden_layer_size*2, output_size)\n",
    "        \n",
    "        self.hidden_cell = (Variable(torch.randn(2, 1, hidden_layer_size).to(device)),\n",
    "                            Variable(torch.randn(2, 1, hidden_layer_size).to(device)))\n",
    "#         self.hidden_cell = (Variable(torch.randn(output_size, input_size, hidden_layer_size)),\n",
    "#                             Variable(torch.randn(output_size, input_size, hidden_layer_size)))\n",
    "    \n",
    "    def forward(self, x):\n",
    "#         logger.info(x.size()) # torch.Size([5121])\n",
    "#         logger.info(x.view(1, 1, -1).size()) # torch.Size([1, 1, 5121])\n",
    "        self.lstm.flatten_parameters()\n",
    "        x, self.hidden_cell = self.lstm(x.view(len(x), 1, -1), self.hidden_cell)\n",
    "#         logger.info(x.size()) # torch.Size([59, 1, 768])\n",
    "#         logger.info(x.view(len(x), -1).size()) # torch.Size([59, 768])\n",
    "        predictions = self.linear(x.view(len(x), -1))\n",
    "#         logger.info(predictions.size()) # torch.Size([1, 198])\n",
    "#         logger.info(predictions[-1].size()) # torch.Size([198])\n",
    "        return predictions\n",
    "\n",
    "    def inithidden(self):\n",
    "        self.h = Variable(torch.randn(2, 1, 768).to(device))\n",
    "        self.c = Variable(torch.randn(2, 1, 768).to(device))"
   ]
  },
  {
   "cell_type": "code",
   "execution_count": 20,
   "metadata": {},
   "outputs": [
    {
     "name": "stdout",
     "output_type": "stream",
     "text": [
      "LSTM(\n",
      "  (lstm): LSTM(5121, 100, bidirectional=True)\n",
      "  (linear): Linear(in_features=200, out_features=198, bias=True)\n",
      ")\n"
     ]
    }
   ],
   "source": [
    "model = LSTM()\n",
    "optimizer = torch.optim.Adam(model.parameters(), lr=0.05)\n",
    "loss_function = nn.CrossEntropyLoss().to(device)\n",
    "model = model.to(device).float()\n",
    "print(model)"
   ]
  },
  {
   "cell_type": "markdown",
   "metadata": {},
   "source": [
    "## Train"
   ]
  },
  {
   "cell_type": "code",
   "execution_count": 21,
   "metadata": {},
   "outputs": [
    {
     "name": "stdout",
     "output_type": "stream",
     "text": [
      "2020-02-12 20:13:23,511 - root - INFO - [] torch.Size([57, 1, 200])\n",
      "2020-02-12 20:13:23,511 - root - INFO - [] torch.Size([57, 200])\n",
      "epoch:   0 loss: 5.30244207\n",
      "2020-02-12 20:13:27,255 - root - INFO - [] torch.Size([60, 1, 200])\n",
      "2020-02-12 20:13:27,256 - root - INFO - [] torch.Size([60, 200])\n",
      "epoch:   1 loss: 8.29773140\n",
      "2020-02-12 20:13:30,852 - root - INFO - [] torch.Size([60, 1, 200])\n",
      "2020-02-12 20:13:30,852 - root - INFO - [] torch.Size([60, 200])\n",
      "epoch:   2 loss: 8.08042431\n",
      "2020-02-12 20:13:34,648 - root - INFO - [] torch.Size([58, 1, 200])\n",
      "2020-02-12 20:13:34,648 - root - INFO - [] torch.Size([58, 200])\n",
      "epoch:   3 loss: 9.45738029\n",
      "2020-02-12 20:13:38,574 - root - INFO - [] torch.Size([58, 1, 200])\n",
      "2020-02-12 20:13:38,575 - root - INFO - [] torch.Size([58, 200])\n",
      "epoch:   4 loss: 12.62230873\n",
      "2020-02-12 20:13:42,440 - root - INFO - [] torch.Size([59, 1, 200])\n",
      "2020-02-12 20:13:42,441 - root - INFO - [] torch.Size([59, 200])\n",
      "epoch:   5 loss: 10.94775772\n",
      "2020-02-12 20:13:46,245 - root - INFO - [] torch.Size([58, 1, 200])\n",
      "2020-02-12 20:13:46,246 - root - INFO - [] torch.Size([58, 200])\n",
      "epoch:   6 loss: 12.35307693\n",
      "2020-02-12 20:13:49,933 - root - INFO - [] torch.Size([59, 1, 200])\n",
      "2020-02-12 20:13:49,934 - root - INFO - [] torch.Size([59, 200])\n",
      "epoch:   7 loss: 11.95199394\n",
      "2020-02-12 20:13:53,640 - root - INFO - [] torch.Size([58, 1, 200])\n",
      "2020-02-12 20:13:53,641 - root - INFO - [] torch.Size([58, 200])\n",
      "epoch:   8 loss: 10.47172737\n",
      "2020-02-12 20:13:57,439 - root - INFO - [] torch.Size([60, 1, 200])\n",
      "2020-02-12 20:13:57,439 - root - INFO - [] torch.Size([60, 200])\n",
      "epoch:   9 loss: 8.57090569\n",
      "2020-02-12 20:14:01,207 - root - INFO - [] torch.Size([59, 1, 200])\n",
      "2020-02-12 20:14:01,208 - root - INFO - [] torch.Size([59, 200])\n",
      "epoch:  10 loss: 10.89381886\n",
      "2020-02-12 20:14:04,752 - root - INFO - [] torch.Size([57, 1, 200])\n",
      "2020-02-12 20:14:04,768 - root - INFO - [] torch.Size([57, 200])\n",
      "epoch:  11 loss: 10.99457169\n",
      "2020-02-12 20:14:08,608 - root - INFO - [] torch.Size([59, 1, 200])\n",
      "2020-02-12 20:14:08,609 - root - INFO - [] torch.Size([59, 200])\n",
      "epoch:  12 loss: 9.06570148\n",
      "2020-02-12 20:14:12,366 - root - INFO - [] torch.Size([57, 1, 200])\n",
      "2020-02-12 20:14:12,366 - root - INFO - [] torch.Size([57, 200])\n",
      "epoch:  13 loss: 10.12036324\n",
      "2020-02-12 20:14:15,975 - root - INFO - [] torch.Size([59, 1, 200])\n",
      "2020-02-12 20:14:15,975 - root - INFO - [] torch.Size([59, 200])\n",
      "epoch:  14 loss: 9.90433693\n",
      "2020-02-12 20:14:19,599 - root - INFO - [] torch.Size([60, 1, 200])\n",
      "2020-02-12 20:14:19,599 - root - INFO - [] torch.Size([60, 200])\n",
      "epoch:  15 loss: 7.29124594\n",
      "2020-02-12 20:14:23,397 - root - INFO - [] torch.Size([59, 1, 200])\n",
      "2020-02-12 20:14:23,397 - root - INFO - [] torch.Size([59, 200])\n",
      "epoch:  16 loss: 12.04567528\n",
      "2020-02-12 20:14:27,080 - root - INFO - [] torch.Size([59, 1, 200])\n",
      "2020-02-12 20:14:27,081 - root - INFO - [] torch.Size([59, 200])\n",
      "epoch:  17 loss: 9.55515194\n",
      "2020-02-12 20:14:30,686 - root - INFO - [] torch.Size([57, 1, 200])\n",
      "2020-02-12 20:14:30,686 - root - INFO - [] torch.Size([57, 200])\n",
      "epoch:  18 loss: 10.96153641\n",
      "2020-02-12 20:14:34,382 - root - INFO - [] torch.Size([58, 1, 200])\n",
      "2020-02-12 20:14:34,398 - root - INFO - [] torch.Size([58, 200])\n",
      "epoch:  19 loss: 11.09673977\n",
      "2020-02-12 20:14:38,110 - root - INFO - [] torch.Size([59, 1, 200])\n",
      "2020-02-12 20:14:38,111 - root - INFO - [] torch.Size([59, 200])\n",
      "epoch:  20 loss: 8.46452808\n",
      "2020-02-12 20:14:41,765 - root - INFO - [] torch.Size([58, 1, 200])\n",
      "2020-02-12 20:14:41,781 - root - INFO - [] torch.Size([58, 200])\n",
      "epoch:  21 loss: 10.75054264\n",
      "2020-02-12 20:14:45,357 - root - INFO - [] torch.Size([57, 1, 200])\n",
      "2020-02-12 20:14:45,358 - root - INFO - [] torch.Size([57, 200])\n",
      "epoch:  22 loss: 12.47310066\n",
      "2020-02-12 20:14:48,989 - root - INFO - [] torch.Size([56, 1, 200])\n",
      "2020-02-12 20:14:48,989 - root - INFO - [] torch.Size([56, 200])\n",
      "epoch:  23 loss: 5.24789000\n",
      "2020-02-12 20:14:52,710 - root - INFO - [] torch.Size([59, 1, 200])\n",
      "2020-02-12 20:14:52,710 - root - INFO - [] torch.Size([59, 200])\n",
      "epoch:  24 loss: 7.90683985\n",
      "2020-02-12 20:14:56,402 - root - INFO - [] torch.Size([58, 1, 200])\n",
      "2020-02-12 20:14:56,402 - root - INFO - [] torch.Size([58, 200])\n",
      "epoch:  25 loss: 9.52018261\n",
      "2020-02-12 20:15:00,041 - root - INFO - [] torch.Size([59, 1, 200])\n",
      "2020-02-12 20:15:00,041 - root - INFO - [] torch.Size([59, 200])\n",
      "epoch:  26 loss: 4.68988800\n",
      "2020-02-12 20:15:03,721 - root - INFO - [] torch.Size([59, 1, 200])\n",
      "2020-02-12 20:15:03,721 - root - INFO - [] torch.Size([59, 200])\n",
      "epoch:  27 loss: 6.34215689\n",
      "2020-02-12 20:15:07,322 - root - INFO - [] torch.Size([60, 1, 200])\n",
      "2020-02-12 20:15:07,322 - root - INFO - [] torch.Size([60, 200])\n",
      "epoch:  28 loss: 9.74809361\n",
      "2020-02-12 20:15:10,990 - root - INFO - [] torch.Size([58, 1, 200])\n",
      "2020-02-12 20:15:10,990 - root - INFO - [] torch.Size([58, 200])\n",
      "epoch:  29 loss: 10.34437370\n",
      "Wall time: 1min 51s\n"
     ]
    },
    {
     "data": {
      "text/plain": [
       "['../model/lstm_model.pkl']"
      ]
     },
     "execution_count": 21,
     "metadata": {},
     "output_type": "execute_result"
    }
   ],
   "source": [
    "%%time\n",
    "\n",
    "now = datetime.datetime.now()\n",
    "\n",
    "for i in range(epochs):\n",
    "    totalloss = 0\n",
    "    train, label = next(iter(trainloader))\n",
    "#     logger.info(train.size()) # torch.Size([1, 295, 5121])\n",
    "#     logger.info(label.size()) # torch.Size([1, 295, 1])\n",
    "    train = torch.squeeze(train) # torch.Size([295, 5121])\n",
    "    label = torch.squeeze(label) # torch.Size([295])\n",
    "    optimizer.zero_grad()\n",
    "#     model.inithidden()\n",
    "    pred = model(train)\n",
    "#     logger.info(pred.size()) # torch.Size([59, 198])\n",
    "    loss = loss_function(pred, label)\n",
    "    totalloss += loss\n",
    "    loss.backward(retain_graph=True)\n",
    "    optimizer.step()\n",
    "\n",
    "    print(f'epoch: {i:3} loss: {totalloss:10.8f}')\n",
    "\n",
    "joblib.dump(model, model_path)"
   ]
  },
  {
   "cell_type": "markdown",
   "metadata": {},
   "source": [
    "## Prediction"
   ]
  },
  {
   "cell_type": "code",
   "execution_count": 19,
   "metadata": {},
   "outputs": [
    {
     "name": "stdout",
     "output_type": "stream",
     "text": [
      "2020-02-12 18:40:46,002 - root - INFO - [] torch.Size([500, 1, 5121])\n",
      "2020-02-12 18:40:46,244 - root - INFO - [] torch.Size([500, 198])\n",
      "Wall time: 3.14 s\n"
     ]
    },
    {
     "name": "stderr",
     "output_type": "stream",
     "text": [
      "C:\\Users\\jungwoo\\Anaconda3\\envs\\dacon15\\lib\\site-packages\\ipykernel_launcher.py:15: UserWarning: Implicit dimension choice for softmax has been deprecated. Change the call to include dim=X as an argument.\n",
      "  from ipykernel import kernelapp as app\n"
     ]
    }
   ],
   "source": [
    "%%time\n",
    "\n",
    "model = joblib.load(model_path) \n",
    "test, _ = next(iter(testloader))\n",
    "\n",
    "test = torch.squeeze(test) # torch.Size([295, 5121])\n",
    "pred_list = []\n",
    "# for te in test:\n",
    "optimizer.zero_grad()\n",
    "pred = model(test)\n",
    "pred_list.append(pred)\n",
    "    \n",
    "pred = torch.cat(pred_list)\n",
    "_,ans = torch.max(pred,dim=1)\n",
    "\n",
    "soft = F.softmax(pred)\n",
    "# logger.info(pred.size())\n",
    "# logger.info(pred)\n",
    "# logger.info(ans.size())\n",
    "# logger.info(ans)\n",
    "\n",
    "# \"%%time\n",
    "# model = joblib.load(model_path) \n",
    "\n",
    "# from sklearn.metrics import classification_report\n",
    "# correct = 0\n",
    "# incorrect = 0\n",
    "# rnn.eval()\n",
    "# y_test = []\n",
    "# prediction = []\n",
    "\n",
    "# for batch in test_iter:\n",
    "#     txt = batch.text\n",
    "#     label = batch.label\n",
    "#     y_test.append(label.data[0])\n",
    "\n",
    "#     pred = rnn(txt)\n",
    "#     _,ans = torch.max(pred,dim=1)\n",
    "#     prediction.append(ans.data[0])\n",
    "    \n",
    "#     if ans.data[0] == label.data[0]:\n",
    "#         correct += 1    \n",
    "#     else:\n",
    "#         incorrect += 1\n",
    "    \n",
    "# print ('correct : ', correct)\n",
    "# print ('incorrect : ', incorrect)\n",
    "# print(classification_report(torch.tensor(y_test), \n",
    "#                             torch.tensor(prediction), \n",
    "#                             digits=4, \n",
    "#                             target_names=['negative', 'positive']))"
   ]
  },
  {
   "cell_type": "code",
   "execution_count": 20,
   "metadata": {},
   "outputs": [],
   "source": [
    "soft = soft.to('cpu')"
   ]
  },
  {
   "cell_type": "code",
   "execution_count": 23,
   "metadata": {},
   "outputs": [
    {
     "data": {
      "text/plain": [
       "tensor([[0.0003, 0.0002, 0.0029,  ..., 0.0002, 0.0046, 0.0003],\n",
       "        [0.0003, 0.0002, 0.0029,  ..., 0.0002, 0.0046, 0.0003],\n",
       "        [0.0003, 0.0002, 0.0029,  ..., 0.0002, 0.0046, 0.0003],\n",
       "        ...,\n",
       "        [0.0003, 0.0002, 0.0029,  ..., 0.0002, 0.0046, 0.0003],\n",
       "        [0.0003, 0.0002, 0.0029,  ..., 0.0002, 0.0046, 0.0003],\n",
       "        [0.0003, 0.0002, 0.0029,  ..., 0.0002, 0.0046, 0.0003]],\n",
       "       grad_fn=<CopyBackwards>)"
      ]
     },
     "execution_count": 23,
     "metadata": {},
     "output_type": "execute_result"
    }
   ],
   "source": [
    "soft"
   ]
  },
  {
   "cell_type": "code",
   "execution_count": null,
   "metadata": {},
   "outputs": [],
   "source": []
  },
  {
   "cell_type": "code",
   "execution_count": null,
   "metadata": {},
   "outputs": [],
   "source": []
  },
  {
   "cell_type": "code",
   "execution_count": null,
   "metadata": {},
   "outputs": [],
   "source": [
    "df = pd.DataFrame(data=pred)\n",
    "df.to_csv('../test_'+model_name+'.csv', index=True)"
   ]
  },
  {
   "cell_type": "markdown",
   "metadata": {},
   "source": [
    "## Submission"
   ]
  },
  {
   "cell_type": "code",
   "execution_count": null,
   "metadata": {},
   "outputs": [],
   "source": [
    "def return_now():\n",
    "    now = time.localtime()\n",
    "    return \"%04d-%02d-%02d %02d-%02d-%02d\" % (now.tm_year, now.tm_mon, now.tm_mday, now.tm_hour, now.tm_min, now.tm_sec)"
   ]
  },
  {
   "cell_type": "code",
   "execution_count": null,
   "metadata": {},
   "outputs": [],
   "source": [
    "submission = pd.DataFrame(data=pred)\n",
    "submission.index = test.index\n",
    "submission.index.name = 'id'\n",
    "submission = submission.sort_index()\n",
    "submission = submission.groupby('id').mean()\n",
    "submission.to_csv('../submission_'+model_name+'_'+return_now()+'.csv', index=True) #제출 파일 만들기"
   ]
  },
  {
   "cell_type": "code",
   "execution_count": null,
   "metadata": {},
   "outputs": [],
   "source": []
  },
  {
   "cell_type": "code",
   "execution_count": null,
   "metadata": {},
   "outputs": [],
   "source": []
  },
  {
   "cell_type": "code",
   "execution_count": null,
   "metadata": {},
   "outputs": [],
   "source": []
  }
 ],
 "metadata": {
  "file_extension": ".py",
  "kernelspec": {
   "display_name": "Python 3.6.9 64-bit ('dacon15': conda)",
   "language": "python",
   "name": "python36964bitdacon15conda2b1ac10d1947412984e3b3cde56c3806"
  },
  "language_info": {
   "codemirror_mode": {
    "name": "ipython",
    "version": 3
   },
   "file_extension": ".py",
   "mimetype": "text/x-python",
   "name": "python",
   "nbconvert_exporter": "python",
   "pygments_lexer": "ipython3",
   "version": "3.7.6"
  },
  "mimetype": "text/x-python",
  "name": "python",
  "npconvert_exporter": "python",
  "pygments_lexer": "ipython3",
  "version": 3
 },
 "nbformat": 4,
 "nbformat_minor": 4
}
